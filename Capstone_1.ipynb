{
 "cells": [
  {
   "cell_type": "markdown",
   "id": "d0d65a43-c267-43c1-9813-525a055395bb",
   "metadata": {},
   "source": [
    "### 🧾 Weekly Performance Dashboard for an Online Course Platform\n",
    "\n",
    "You're a newly hired data analyst at **SkillSprint**, a company offering online upskilling courses. Your manager drops you a CSV file called `weekly_course_data.csv`. The file contains the following columns:\n",
    "\n",
    "- `course_name`: Name of the course  \n",
    "- `date`: Date the data was recorded  \n",
    "- `completions`: Number of completions on that day  \n",
    "- `average_rating`: Average course rating on that day  \n",
    "- `order_value`: Value of purchases made that day for the course\n",
    "\n",
    "---\n",
    "\n",
    "#### 🎯 Your Task\n",
    "\n",
    "Prepare a quick insight report for the leadership team. They’ve asked you to investigate and present useful findings.\n",
    "\n",
    "---\n",
    "\n",
    "#### 🧠 Business Questions to Answer\n",
    "\n",
    "- What are the **total and average completions per course**?\n",
    "- Which course has the **highest average rating** for the week?\n",
    "- Which **day recorded the highest revenue** overall?\n",
    "- Are there any **courses with suspiciously low ratings**?\n",
    "- What’s the **deadline to complete this analysis** before the weekly report goes out (assume every Sunday)?\n",
    "- Is there any **punctuation or formatting issue** in course names you may want to clean before sharing charts?\n",
    "\n",
    "---\n",
    "\n"
   ]
  },
  {
   "cell_type": "code",
   "execution_count": 1,
   "id": "77e57d7e-e31e-4dbd-b7f4-e6f19446e2f0",
   "metadata": {},
   "outputs": [
    {
     "name": "stdout",
     "output_type": "stream",
     "text": [
      "C:\\Users\\Administrator\\Downloads\n"
     ]
    }
   ],
   "source": [
    "#Checking Location so I can save csv file in the right directory\n",
    "import os\n",
    "print(os.getcwd())"
   ]
  },
  {
   "cell_type": "code",
   "execution_count": 2,
   "id": "6734deaf-c62f-4a5e-84ae-ec4afb3eed01",
   "metadata": {},
   "outputs": [
    {
     "name": "stdout",
     "output_type": "stream",
     "text": [
      "(35, 5)\n"
     ]
    },
    {
     "data": {
      "text/html": [
       "<div>\n",
       "<style scoped>\n",
       "    .dataframe tbody tr th:only-of-type {\n",
       "        vertical-align: middle;\n",
       "    }\n",
       "\n",
       "    .dataframe tbody tr th {\n",
       "        vertical-align: top;\n",
       "    }\n",
       "\n",
       "    .dataframe thead th {\n",
       "        text-align: right;\n",
       "    }\n",
       "</style>\n",
       "<table border=\"1\" class=\"dataframe\">\n",
       "  <thead>\n",
       "    <tr style=\"text-align: right;\">\n",
       "      <th></th>\n",
       "      <th>course_name</th>\n",
       "      <th>date</th>\n",
       "      <th>completions</th>\n",
       "      <th>average_rating</th>\n",
       "      <th>order_value</th>\n",
       "    </tr>\n",
       "  </thead>\n",
       "  <tbody>\n",
       "    <tr>\n",
       "      <th>0</th>\n",
       "      <td>Python Basics</td>\n",
       "      <td>7/1/2024</td>\n",
       "      <td>33</td>\n",
       "      <td>4.5</td>\n",
       "      <td>6280</td>\n",
       "    </tr>\n",
       "    <tr>\n",
       "      <th>1</th>\n",
       "      <td>Python Basics</td>\n",
       "      <td>7/2/2024</td>\n",
       "      <td>77</td>\n",
       "      <td>4.2</td>\n",
       "      <td>10287</td>\n",
       "    </tr>\n",
       "    <tr>\n",
       "      <th>2</th>\n",
       "      <td>Python Basics</td>\n",
       "      <td>7/3/2024</td>\n",
       "      <td>50</td>\n",
       "      <td>4.4</td>\n",
       "      <td>10546</td>\n",
       "    </tr>\n",
       "    <tr>\n",
       "      <th>3</th>\n",
       "      <td>Python Basics</td>\n",
       "      <td>7/4/2024</td>\n",
       "      <td>25</td>\n",
       "      <td>3.8</td>\n",
       "      <td>14846</td>\n",
       "    </tr>\n",
       "    <tr>\n",
       "      <th>4</th>\n",
       "      <td>Python Basics</td>\n",
       "      <td>7/5/2024</td>\n",
       "      <td>73</td>\n",
       "      <td>4.6</td>\n",
       "      <td>11760</td>\n",
       "    </tr>\n",
       "  </tbody>\n",
       "</table>\n",
       "</div>"
      ],
      "text/plain": [
       "     course_name      date  completions  average_rating  order_value\n",
       "0  Python Basics  7/1/2024           33             4.5         6280\n",
       "1  Python Basics  7/2/2024           77             4.2        10287\n",
       "2  Python Basics  7/3/2024           50             4.4        10546\n",
       "3  Python Basics  7/4/2024           25             3.8        14846\n",
       "4  Python Basics  7/5/2024           73             4.6        11760"
      ]
     },
     "execution_count": 2,
     "metadata": {},
     "output_type": "execute_result"
    }
   ],
   "source": [
    "# importing useful libraries, importing csv and first peek into data\n",
    "import pandas as pd\n",
    "weekly_course_data_df = pd.read_csv('weekly_course_data.csv')\n",
    "print(weekly_course_data_df.shape)\n",
    "weekly_course_data_df.head()"
   ]
  },
  {
   "cell_type": "code",
   "execution_count": 3,
   "id": "a1ada07d-5da7-4f88-bc71-74bbf011f7eb",
   "metadata": {},
   "outputs": [
    {
     "name": "stdout",
     "output_type": "stream",
     "text": [
      "<class 'pandas.core.frame.DataFrame'>\n",
      "RangeIndex: 35 entries, 0 to 34\n",
      "Data columns (total 5 columns):\n",
      " #   Column          Non-Null Count  Dtype  \n",
      "---  ------          --------------  -----  \n",
      " 0   course_name     35 non-null     object \n",
      " 1   date            35 non-null     object \n",
      " 2   completions     35 non-null     int64  \n",
      " 3   average_rating  35 non-null     float64\n",
      " 4   order_value     35 non-null     int64  \n",
      "dtypes: float64(1), int64(2), object(2)\n",
      "memory usage: 1.5+ KB\n"
     ]
    }
   ],
   "source": [
    "# CHeck for null and data type\n",
    "weekly_course_data_df.info()\n",
    "# weekly_course_data_df.dtypes weekly_course_data_df.isnull().sum() "
   ]
  },
  {
   "cell_type": "code",
   "execution_count": 4,
   "id": "1c0c5a2d-98a0-4345-98d0-5356ca14e0c3",
   "metadata": {},
   "outputs": [
    {
     "data": {
      "text/plain": [
       "count           35\n",
       "unique           7\n",
       "top       7/1/2024\n",
       "freq             5\n",
       "Name: date, dtype: object"
      ]
     },
     "execution_count": 4,
     "metadata": {},
     "output_type": "execute_result"
    }
   ],
   "source": [
    "#Check that the date column is okay to go\n",
    "weekly_course_data_df['date'].describe()"
   ]
  },
  {
   "cell_type": "code",
   "execution_count": 5,
   "id": "75c92d92-4a61-4838-becc-fb0dec29dd33",
   "metadata": {},
   "outputs": [
    {
     "name": "stdout",
     "output_type": "stream",
     "text": [
      "datetime64[ns]\n"
     ]
    }
   ],
   "source": [
    "#Convert date column to correct data type\n",
    "weekly_course_data_df['date'] = pd.to_datetime(weekly_course_data_df['date'])\n",
    "# Verify the conversion worked\n",
    "print(weekly_course_data_df['date'].dtype)"
   ]
  },
  {
   "cell_type": "code",
   "execution_count": 6,
   "id": "04a07194-360f-4dc1-b09a-6af567fb794e",
   "metadata": {},
   "outputs": [
    {
     "data": {
      "text/html": [
       "<div>\n",
       "<style scoped>\n",
       "    .dataframe tbody tr th:only-of-type {\n",
       "        vertical-align: middle;\n",
       "    }\n",
       "\n",
       "    .dataframe tbody tr th {\n",
       "        vertical-align: top;\n",
       "    }\n",
       "\n",
       "    .dataframe thead th {\n",
       "        text-align: right;\n",
       "    }\n",
       "</style>\n",
       "<table border=\"1\" class=\"dataframe\">\n",
       "  <thead>\n",
       "    <tr style=\"text-align: right;\">\n",
       "      <th></th>\n",
       "      <th>date</th>\n",
       "      <th>completions</th>\n",
       "      <th>average_rating</th>\n",
       "      <th>order_value</th>\n",
       "    </tr>\n",
       "  </thead>\n",
       "  <tbody>\n",
       "    <tr>\n",
       "      <th>count</th>\n",
       "      <td>35</td>\n",
       "      <td>35.000000</td>\n",
       "      <td>35.000000</td>\n",
       "      <td>35.000000</td>\n",
       "    </tr>\n",
       "    <tr>\n",
       "      <th>mean</th>\n",
       "      <td>2024-07-04 00:00:00</td>\n",
       "      <td>60.514286</td>\n",
       "      <td>4.205714</td>\n",
       "      <td>13321.171429</td>\n",
       "    </tr>\n",
       "    <tr>\n",
       "      <th>min</th>\n",
       "      <td>2024-07-01 00:00:00</td>\n",
       "      <td>21.000000</td>\n",
       "      <td>3.600000</td>\n",
       "      <td>5161.000000</td>\n",
       "    </tr>\n",
       "    <tr>\n",
       "      <th>25%</th>\n",
       "      <td>2024-07-02 00:00:00</td>\n",
       "      <td>43.500000</td>\n",
       "      <td>3.850000</td>\n",
       "      <td>8649.000000</td>\n",
       "    </tr>\n",
       "    <tr>\n",
       "      <th>50%</th>\n",
       "      <td>2024-07-04 00:00:00</td>\n",
       "      <td>61.000000</td>\n",
       "      <td>4.100000</td>\n",
       "      <td>11760.000000</td>\n",
       "    </tr>\n",
       "    <tr>\n",
       "      <th>75%</th>\n",
       "      <td>2024-07-06 00:00:00</td>\n",
       "      <td>75.000000</td>\n",
       "      <td>4.550000</td>\n",
       "      <td>17825.000000</td>\n",
       "    </tr>\n",
       "    <tr>\n",
       "      <th>max</th>\n",
       "      <td>2024-07-07 00:00:00</td>\n",
       "      <td>100.000000</td>\n",
       "      <td>5.000000</td>\n",
       "      <td>23900.000000</td>\n",
       "    </tr>\n",
       "    <tr>\n",
       "      <th>std</th>\n",
       "      <td>NaN</td>\n",
       "      <td>22.732940</td>\n",
       "      <td>0.424224</td>\n",
       "      <td>5661.511150</td>\n",
       "    </tr>\n",
       "  </tbody>\n",
       "</table>\n",
       "</div>"
      ],
      "text/plain": [
       "                      date  completions  average_rating   order_value\n",
       "count                   35    35.000000       35.000000     35.000000\n",
       "mean   2024-07-04 00:00:00    60.514286        4.205714  13321.171429\n",
       "min    2024-07-01 00:00:00    21.000000        3.600000   5161.000000\n",
       "25%    2024-07-02 00:00:00    43.500000        3.850000   8649.000000\n",
       "50%    2024-07-04 00:00:00    61.000000        4.100000  11760.000000\n",
       "75%    2024-07-06 00:00:00    75.000000        4.550000  17825.000000\n",
       "max    2024-07-07 00:00:00   100.000000        5.000000  23900.000000\n",
       "std                    NaN    22.732940        0.424224   5661.511150"
      ]
     },
     "execution_count": 6,
     "metadata": {},
     "output_type": "execute_result"
    }
   ],
   "source": [
    "#Check Summary Stats\n",
    "weekly_course_data_df.describe()"
   ]
  },
  {
   "cell_type": "code",
   "execution_count": 7,
   "id": "de540679-a8d7-4828-aa1c-fed8e9a0cacf",
   "metadata": {},
   "outputs": [
    {
     "data": {
      "text/plain": [
       "array(['Python Basics', 'Data Cleaning', 'AI Ethics', 'SQL for Beginners',\n",
       "       'Machine Learning 101'], dtype=object)"
      ]
     },
     "execution_count": 7,
     "metadata": {},
     "output_type": "execute_result"
    }
   ],
   "source": [
    "#Check data quality for text column.\n",
    "weekly_course_data_df['course_name'].unique()"
   ]
  },
  {
   "cell_type": "code",
   "execution_count": 8,
   "id": "9fcc9bdb-befe-4c2c-bc56-c4fabebd521c",
   "metadata": {},
   "outputs": [],
   "source": [
    "# What are the total and average completions per course?\n",
    "total_completion = weekly_course_data_df.groupby('course_name')['completions'].agg(['sum', 'mean'])"
   ]
  },
  {
   "cell_type": "code",
   "execution_count": 9,
   "id": "2a1ffad4-9d75-45b8-8d32-f149aecfa131",
   "metadata": {},
   "outputs": [],
   "source": [
    "# Which course has the **highest average rating** for the week?\n",
    "average_rating = weekly_course_data_df.groupby('course_name')['average_rating'].mean().sort_values(ascending=False)\n",
    "top_rating = average_rating.head(1)"
   ]
  },
  {
   "cell_type": "code",
   "execution_count": 10,
   "id": "4dc257ba-f6c4-419a-b4ee-9fcf9323e86a",
   "metadata": {},
   "outputs": [],
   "source": [
    "# Which **day recorded the highest revenue** overall?\n",
    "daily_revenue = weekly_course_data_df.groupby('date')['order_value'].sum().sort_values(ascending = False)\n",
    "top_daily_revenue = daily_revenue.head(1)"
   ]
  },
  {
   "cell_type": "code",
   "execution_count": 11,
   "id": "27e49c01-a973-4210-80b1-1e1899d6186c",
   "metadata": {},
   "outputs": [],
   "source": [
    "# Which **day recorded the highest revenue** overall?\n",
    "daily_revenue_by_course = weekly_course_data_df.groupby(['date', 'course_name'])['order_value'].sum().sort_values(ascending = False)\n",
    "top_daily_revenue_by_course = daily_revenue_by_course.head(6)\n",
    "#print(top_daily_revenue_by_course)\n",
    "#Check for individual course revenue\n",
    "course_total = weekly_course_data_df.groupby(['course_name'])['order_value'].sum().sort_values(ascending = False)"
   ]
  },
  {
   "cell_type": "code",
   "execution_count": 12,
   "id": "1bcf2212-1560-4e99-a162-db5e1b449aee",
   "metadata": {},
   "outputs": [
    {
     "data": {
      "text/plain": [
       "count    35.000000\n",
       "mean      4.205714\n",
       "std       0.424224\n",
       "min       3.600000\n",
       "25%       3.850000\n",
       "50%       4.100000\n",
       "75%       4.550000\n",
       "max       5.000000\n",
       "Name: average_rating, dtype: float64"
      ]
     },
     "execution_count": 12,
     "metadata": {},
     "output_type": "execute_result"
    }
   ],
   "source": [
    "# Are there any **courses with suspiciously low ratings**?\n",
    "# Check 5-number Summary for ALL courses\n",
    "weekly_course_data_df['average_rating'].describe()"
   ]
  },
  {
   "cell_type": "code",
   "execution_count": 13,
   "id": "9e381ab1-6797-430b-a5f0-eaab2a34be39",
   "metadata": {},
   "outputs": [],
   "source": [
    "#On an average, our courses are doing well. However, we can investigate the lowest rating of 3.60 to see if there is anything worth following there\n",
    "rating_breakdown = weekly_course_data_df.groupby(by = 'course_name')['average_rating'].agg(['min','mean','max']).sort_values(by = 'mean', ascending = False)\n",
    "#print(rating_breakdown)\n",
    "\n",
    "# Are there any courses with suspiciously low ratings?\n",
    "# Based on the min ratings of 3.6 to 3.8 for these course, nothing is suspiciously low here. They are within a reasonable range."
   ]
  },
  {
   "cell_type": "code",
   "execution_count": 14,
   "id": "cd0d8b58-3901-4cc7-8db5-6d73d6b4d532",
   "metadata": {},
   "outputs": [
    {
     "data": {
      "text/plain": [
       "'Sunday'"
      ]
     },
     "execution_count": 14,
     "metadata": {},
     "output_type": "execute_result"
    }
   ],
   "source": [
    "# What’s the deadline to complete this analysis before the weekly report goes out (assume every Sunday)?\n",
    "#From before, we know that the dataset is from 2024-07-01 to 2024-07-07 '''\n",
    "# Checking what day of the week the max date is \n",
    "import calendar\n",
    "last_date = weekly_course_data_df['date'].max()\n",
    "#StachOverflow Snippet\n",
    "calendar.day_name[last_date.weekday()]  #'Wednesday'"
   ]
  },
  {
   "cell_type": "code",
   "execution_count": 15,
   "id": "3b8afc23-b9ff-46e0-9b12-63290495e657",
   "metadata": {},
   "outputs": [],
   "source": [
    "'''Since, the last date was a Sunday and our report goes out every Sunday, \n",
    "I would suggest the report is ready at least on Thursday to allow for at least two days of revision'''\n",
    "# Adding 4 days to the max\n",
    "from datetime import timedelta as td\n",
    "deadline_submission = last_date + td(days = 4)\n",
    "deadline_report = last_date + td(days = 7)"
   ]
  },
  {
   "cell_type": "code",
   "execution_count": 16,
   "id": "25f65680-8c63-4baf-bb5c-8bd2cbe7c22c",
   "metadata": {},
   "outputs": [
    {
     "data": {
      "text/plain": [
       "array(['Python Basics', 'Data Cleaning', 'AI Ethics', 'SQL for Beginners',\n",
       "       'Machine Learning 101'], dtype=object)"
      ]
     },
     "execution_count": 16,
     "metadata": {},
     "output_type": "execute_result"
    }
   ],
   "source": [
    "# Is there any punctuation or formatting issue in course names you may want to clean before sharing charts?\n",
    "#From all my analysis so far, I don't see any issue. However, we can do one last and final check just because\n",
    "weekly_course_data_df['course_name'].unique()"
   ]
  },
  {
   "cell_type": "code",
   "execution_count": 17,
   "id": "a6abffc8-0d29-4f8f-91df-9efe9f586128",
   "metadata": {},
   "outputs": [],
   "source": [
    "#As expected, all looks good over here and it is properly formatted for viz."
   ]
  },
  {
   "cell_type": "code",
   "execution_count": 19,
   "id": "d864a20d-111e-4cb4-bcc9-ba5670090e28",
   "metadata": {},
   "outputs": [
    {
     "name": "stdout",
     "output_type": "stream",
     "text": [
      "== SKILLSPRINT WEEKLY PERFORMANCE SUMMARY ==\n",
      "--------------------------------------------\n",
      "\n",
      "1. COURSE COMPLETIONS:\n",
      "                      sum       mean\n",
      "course_name                         \n",
      "AI Ethics             371  53.000000\n",
      "Data Cleaning         515  73.571429\n",
      "Machine Learning 101  486  69.428571\n",
      "Python Basics         392  56.000000\n",
      "SQL for Beginners     354  50.571429\n",
      "\n",
      "2. HIGHEST RATED COURSES:\n",
      "The top rated course is Machine Learning 101 with rating of 4.41\n",
      "\n",
      "3. REVENUE TREND:\n",
      "In the week in review, the company witnessed an high of 84,944.00 on Monday, 2024-07-01 and a low of 54,883.00 on Saturday, 2024-07-06\n",
      "\n",
      "Top Performing Courses by Revenue\n",
      "\n",
      "course_name\n",
      "AI Ethics               115780\n",
      "Machine Learning 101    100353\n",
      "Data Cleaning            93576\n",
      "SQL for Beginners        81866\n",
      "Python Basics            74666\n",
      "\n",
      "4. RATING OUTLOOK:\n",
      "                      min      mean  max\n",
      "course_name                             \n",
      "Machine Learning 101  3.7  4.414286  4.9\n",
      "Python Basics         3.7  4.271429  4.7\n",
      "SQL for Beginners     3.7  4.157143  5.0\n",
      "Data Cleaning         3.6  4.100000  4.9\n",
      "AI Ethics             3.8  4.085714  4.7\n",
      "\n",
      "Based on the min ratings of 3.6 to 3.8 for these course, nothing is suspiciously low here. They are within a reasonable range.\n",
      "\n",
      "5. REPORT DEADLINE:\n",
      "The deadline for the report is Sunday, 2024-07-14. However, the report will be turned in by Thursday, 2024-07-11\n",
      "\n",
      "6. DATA QUALITY ISSUES:\n",
      "Other than the date that was converted from string to datetime, the data had no issues and data cleaning was pretty straightforward.\n"
     ]
    }
   ],
   "source": [
    "print(\"== SKILLSPRINT WEEKLY PERFORMANCE SUMMARY ==\")\n",
    "print(\"-\" * 44) \n",
    "print(\"\\n1. COURSE COMPLETIONS:\")\n",
    "print(total_completion)\n",
    "\n",
    "print(\"\\n2. HIGHEST RATED COURSES:\")\n",
    "print(f\"The top rated course is {top_rating.idxmax()} with rating of {top_rating.max().round(2)}\")\n",
    "\n",
    "print(\"\\n3. REVENUE TREND:\")\n",
    "print(f\"In the week in review, the company witnessed an high of {daily_revenue.max():,.2f} on {daily_revenue.idxmax().strftime('%A, %Y-%m-%d')} and a low of {daily_revenue.min():,.2f} on {daily_revenue.idxmin().strftime('%A, %Y-%m-%d')}\")\n",
    "print(f\"\\nTop Performing Courses by Revenue\\n\\n{course_total.to_string()}\")\n",
    "\n",
    "print(\"\\n4. RATING OUTLOOK:\")\n",
    "print(rating_breakdown)\n",
    "print(\"\\nBased on the min ratings of 3.6 to 3.8 for these course, nothing is suspiciously low here. They are within a reasonable range.\")\n",
    "\n",
    "print(\"\\n5. REPORT DEADLINE:\")\n",
    "print(f\"The deadline for the report is {deadline_report.strftime('%A, %Y-%m-%d')}. However, the report will be turned in by {deadline_submission.strftime('%A, %Y-%m-%d')}\")\n",
    "\n",
    "print(\"\\n6. DATA QUALITY ISSUES:\")\n",
    "print('Other than the date that was converted from string to datetime, the data had no issues and data cleaning was pretty straightforward.')\n"
   ]
  },
  {
   "cell_type": "code",
   "execution_count": null,
   "id": "ff4247e3-a039-479b-8833-7dadd46ea2e0",
   "metadata": {},
   "outputs": [],
   "source": []
  }
 ],
 "metadata": {
  "kernelspec": {
   "display_name": "Python 3 (ipykernel)",
   "language": "python",
   "name": "python3"
  },
  "language_info": {
   "codemirror_mode": {
    "name": "ipython",
    "version": 3
   },
   "file_extension": ".py",
   "mimetype": "text/x-python",
   "name": "python",
   "nbconvert_exporter": "python",
   "pygments_lexer": "ipython3",
   "version": "3.10.11"
  }
 },
 "nbformat": 4,
 "nbformat_minor": 5
}
